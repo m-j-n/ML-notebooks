{
 "cells": [
  {
   "cell_type": "code",
   "execution_count": 50,
   "metadata": {},
   "outputs": [],
   "source": [
    "import pandas as pd\n",
    "import chess\n",
    "import csv"
   ]
  },
  {
   "cell_type": "code",
   "execution_count": null,
   "metadata": {},
   "outputs": [],
   "source": [
    "data = open('chess.pgn')\n",
    "\n",
    "games = chess.pgn.read_game(data)\n",
    "heads = games.headers\n",
    "\n",
    "keys, values = [], []\n",
    "\n",
    "for key, value in heads.items():\n",
    "    keys.append(key)      \n",
    "\n",
    "with open(\"final.csv\", \"w\") as outfile:\n",
    "    csvwriter = csv.writer(outfile)\n",
    "    csvwriter.writerow(keys)\n",
    "    \n",
    "for g in data:\n",
    "    game = chess.pgn.read_game(data)\n",
    "    headers = game.headers\n",
    "    \n",
    "    keys, values = [], []\n",
    "\n",
    "    for key, value in headers.items():\n",
    "        values.append(value)       \n",
    "\n",
    "    with open(\"final.csv\", \"a\") as outfile:\n",
    "        csvwriter = csv.writer(outfile)\n",
    "        csvwriter.writerow(values)"
   ]
  },
  {
   "cell_type": "code",
   "execution_count": 70,
   "metadata": {},
   "outputs": [
    {
     "name": "stderr",
     "output_type": "stream",
     "text": [
      "b'Skipping line 132351: expected 17 fields, saw 18\\nSkipping line 132497: expected 17 fields, saw 18\\nSkipping line 132531: expected 17 fields, saw 18\\nSkipping line 132559: expected 17 fields, saw 18\\nSkipping line 132577: expected 17 fields, saw 18\\nSkipping line 132623: expected 17 fields, saw 18\\nSkipping line 157457: expected 17 fields, saw 18\\nSkipping line 164849: expected 17 fields, saw 18\\nSkipping line 164875: expected 17 fields, saw 18\\nSkipping line 164887: expected 17 fields, saw 18\\n'\n",
      "b'Skipping line 213623: expected 17 fields, saw 18\\nSkipping line 213685: expected 17 fields, saw 18\\nSkipping line 213809: expected 17 fields, saw 18\\nSkipping line 213901: expected 17 fields, saw 18\\nSkipping line 213953: expected 17 fields, saw 18\\nSkipping line 214061: expected 17 fields, saw 18\\nSkipping line 222497: expected 17 fields, saw 18\\nSkipping line 222581: expected 17 fields, saw 18\\nSkipping line 222637: expected 17 fields, saw 18\\nSkipping line 222659: expected 17 fields, saw 18\\nSkipping line 222703: expected 17 fields, saw 18\\n'\n"
     ]
    }
   ],
   "source": [
    "df = pd.read_csv('final.csv',error_bad_lines=False)\n",
    "df = df.drop(['Event', 'Site', 'Round', 'Date', 'White', 'Black'], axis=1)\n",
    "df['UTCDate'] = pd.to_datetime(df['UTCDate'])\n",
    "df = df[df['WhiteElo'].str.contains(\"\\?\") == False]\n",
    "df = df[df['BlackElo'].str.contains(\"\\?\") == False]\n",
    "df['WhiteElo'] = df['WhiteElo'].astype(int)\n",
    "df['BlackElo'] = df['BlackElo'].astype(int)\n",
    "df['WhiteRatingDiff'] = df['WhiteRatingDiff'].astype(int)\n",
    "df['BlackRatingDiff'] = df['BlackRatingDiff'].astype(int)\n",
    "df['rate_dif'] = df['WhiteElo'] - df['BlackElo']\n",
    "temp =pd.get_dummies(df['Result'])\n",
    "df = pd.concat([df, temp], axis=1)"
   ]
  },
  {
   "cell_type": "code",
   "execution_count": 71,
   "metadata": {},
   "outputs": [],
   "source": [
    "difs = pd.DataFrame(columns=('rating_difference', 'win_percentage', 'net_profit'))"
   ]
  },
  {
   "cell_type": "code",
   "execution_count": 76,
   "metadata": {},
   "outputs": [],
   "source": [
    "i = -1500\n",
    "\n",
    "for i in range(-1000,1000):\n",
    "        tests = df[df['rate_dif'] == i]\n",
    "        if len(tests) > 100:\n",
    "            win_rate = (tests['1-0'].sum() + (1/2 * tests['1/2-1/2'].sum())) / len(tests)\n",
    "            profit = tests['WhiteRatingDiff'].sum() / len(tests)\n",
    "            temp = pd.DataFrame([[i,win_rate, profit]], columns=('rating_difference', 'win_percentage', 'net_profit'))\n",
    "            difs = difs.append(temp, ignore_index=True)\n",
    "            i += 1\n",
    "        else:\n",
    "            i += 1"
   ]
  }
 ],
 "metadata": {
  "kernelspec": {
   "display_name": "Python 3",
   "language": "python",
   "name": "python3"
  },
  "language_info": {
   "codemirror_mode": {
    "name": "ipython",
    "version": 3
   },
   "file_extension": ".py",
   "mimetype": "text/x-python",
   "name": "python",
   "nbconvert_exporter": "python",
   "pygments_lexer": "ipython3",
   "version": "3.6.4"
  }
 },
 "nbformat": 4,
 "nbformat_minor": 2
}
